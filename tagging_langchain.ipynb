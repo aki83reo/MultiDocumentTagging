{
 "cells": [
  {
   "cell_type": "code",
   "execution_count": 18,
   "metadata": {},
   "outputs": [],
   "source": [
    "from typing import List\n",
    "from pydantic import BaseModel, Field\n",
    "import pandas as pd \n",
    "import openai\n",
    "import os\n",
    "from langchain.prompts import ChatPromptTemplate\n",
    "from langchain.chat_models import ChatOpenAI\n",
    "from langchain.chat_models import AzureChatOpenAI\n",
    "from langchain.embeddings import OpenAIEmbeddings\n",
    "from langchain.utils.openai_functions import convert_pydantic_to_openai_function\n",
    "from langchain.prompts import ChatPromptTemplate\n",
    "from langchain.chat_models import ChatOpenAI\n",
    "from langchain.output_parsers.openai_functions import JsonOutputFunctionsParser\n",
    "from typing import List\n",
    "from pydantic import BaseModel, Field\n",
    "from langchain.utils.openai_functions import convert_pydantic_to_openai_function\n",
    "from langchain_community.document_loaders import DataFrameLoader\n",
    "from typing import List\n",
    "from pydantic import BaseModel, Field\n",
    "\n"
   ]
  },
  {
   "cell_type": "code",
   "execution_count": 19,
   "metadata": {},
   "outputs": [],
   "source": [
    "os.environ[\"OPENAI_API_TYPE\"]       = \"\"\n",
    "os.environ[\"OPENAI_API_BASE\"]       = \"\"\n",
    "os.environ[\"OPENAI_API_KEY\"]        = \"\"\n",
    "os.environ[\"OPENAI_API_VERSION\"]    = \"\"\n",
    "openai.api_type     = os.environ[\"OPENAI_API_TYPE\"]\n",
    "openai.api_base     = os.environ[\"OPENAI_API_BASE\"]\n",
    "openai.api_key      = os.environ[\"OPENAI_API_KEY\"] \n",
    "openai.api_version  = os.environ[\"OPENAI_API_VERSION\"]"
   ]
  },
  {
   "cell_type": "code",
   "execution_count": 20,
   "metadata": {},
   "outputs": [],
   "source": [
    "model = AzureChatOpenAI(deployment_name='' , verbose=False , temperature=0)"
   ]
  },
  {
   "cell_type": "code",
   "execution_count": 455,
   "metadata": {},
   "outputs": [],
   "source": [
    "from typing import Literal\n",
    "class Pos_tag(BaseModel):\n",
    "    \"\"\"Tag the sentences with the list of aspects\"\"\"\n",
    "    #aspects:list=all_aspects\n",
    "    tone: Literal[\"positive\", \"negative\"]\n",
    "    tags: list = Field(description=\"sentiment tag of text 'pos','neg','neutral \")"
   ]
  },
  {
   "cell_type": "code",
   "execution_count": 28,
   "metadata": {},
   "outputs": [],
   "source": [
    "class Tagging(BaseModel):\n",
    "    \"\"\"Tag the piece of text with particular info.\"\"\"\n",
    "    sentiment: str = Field(description=\"sentiment of text, should be `pos`, `neg`, or `neutral`\")\n",
    "    language: str = Field(description=\"language of text (should be ISO 639-1 code)\")"
   ]
  },
  {
   "cell_type": "code",
   "execution_count": 29,
   "metadata": {},
   "outputs": [],
   "source": [
    "tagging_functions = [convert_pydantic_to_openai_function(Tagging)]"
   ]
  },
  {
   "cell_type": "code",
   "execution_count": 36,
   "metadata": {},
   "outputs": [],
   "source": [
    "prompt = ChatPromptTemplate.from_messages([\n",
    "    (\"system\", \"Think carefully, and then tag the  text   as instructed\"),\n",
    "    (\"user\", \" ['whitenning','long lasting']  should be mapped to find sentiment{input}\")\n",
    "])"
   ]
  },
  {
   "cell_type": "code",
   "execution_count": 37,
   "metadata": {},
   "outputs": [],
   "source": [
    "model_with_functions = model.bind(\n",
    "    functions=tagging_functions,\n",
    "    function_call={\"name\": \"Tagging\"}\n",
    ")"
   ]
  },
  {
   "cell_type": "code",
   "execution_count": 38,
   "metadata": {},
   "outputs": [],
   "source": [
    "tagging_chain = prompt | model_with_functions"
   ]
  },
  {
   "cell_type": "code",
   "execution_count": 39,
   "metadata": {},
   "outputs": [],
   "source": [
    "tagging_chain = prompt | model_with_functions | JsonOutputFunctionsParser()"
   ]
  },
  {
   "cell_type": "code",
   "execution_count": 40,
   "metadata": {},
   "outputs": [
    {
     "data": {
      "text/plain": [
       "{'sentiment': 'pos', 'language': 'en'}"
      ]
     },
     "execution_count": 40,
     "metadata": {},
     "output_type": "execute_result"
    }
   ],
   "source": [
    "tagging_chain.invoke({\"input\": \"I love langchain\"})"
   ]
  },
  {
   "cell_type": "code",
   "execution_count": 82,
   "metadata": {},
   "outputs": [],
   "source": [
    "from langchain_community.document_transformers.openai_functions import (\n",
    "    create_metadata_tagger,\n",
    ")"
   ]
  },
  {
   "cell_type": "code",
   "execution_count": 119,
   "metadata": {},
   "outputs": [],
   "source": [
    "from pydantic import BaseModel, Field\n",
    "import json\n",
    "from typing import Literal\n",
    "\n",
    "class Tags(BaseModel):\n",
    "    tone: Literal[\"positive\", \"negative\",\"Neutral\"]\n",
    "\n"
   ]
  },
  {
   "cell_type": "code",
   "execution_count": 121,
   "metadata": {},
   "outputs": [],
   "source": [
    "prompt = ChatPromptTemplate.from_template(\n",
    "\"\"\"\n",
    "  tag sentiments for this {input} with respect to the string\n",
    "\"\"\"\n",
    ")"
   ]
  },
  {
   "cell_type": "code",
   "execution_count": 122,
   "metadata": {},
   "outputs": [],
   "source": [
    "\n",
    "document_transformer = create_metadata_tagger(metadata_schema=Tags, llm=model,prompt=prompt)\n"
   ]
  },
  {
   "cell_type": "code",
   "execution_count": 109,
   "metadata": {},
   "outputs": [],
   "source": [
    "original_documents =loader.load()[1:5]\n",
    "import json"
   ]
  },
  {
   "cell_type": "code",
   "execution_count": 110,
   "metadata": {},
   "outputs": [
    {
     "name": "stdout",
     "output_type": "stream",
     "text": [
      "As a diligent user of FrostBrite toothpaste, I have tried various types to cater to my oral needs. While I appreciate the effectiveness of the product, I did notice that the toothpaste tends to dry out quickly in the tube. This can be a bit frustrating as I have to waste some of the product or struggle to squeeze it out. Nonetheless, this is a minor issue compared to the overall benefits of the toothpaste.\n",
      "\n",
      "{\"input\": \"positive\", \"File Name\": \"paste-review10-1.txt\"}\n",
      "\n",
      "---------------\n",
      "\n",
      "As a health-conscious woman, I was excited to try FrostBrite toothpaste with its range of natural ingredients and eco-friendly packaging. However, I was disappointed to find that the toothpaste dried out quickly in the tube, making it difficult to use. While I appreciate the emphasis on natural ingredients, I hope the brand can address this issue in the future to make their product more user-friendly. Overall, I still appreciate the effort put into creating a more sustainable toothpaste option.\n",
      "\n",
      "{\"input\": \"As a health-conscious woman, I was excited to try FrostBrite toothpaste with its range of natural ingredients and eco-friendly packaging. However, I was disappointed to find that the toothpaste dried out quickly in the tube, making it difficult to use. While I appreciate the emphasis on natural ingredients, I hope the brand can address this issue in the future to make their product more user-friendly. Overall, I still appreciate the effort put into creating a more sustainable toothpaste option.\", \"File Name\": \"paste-review10-2.txt\"}\n",
      "\n",
      "---------------\n",
      "\n",
      "The toothpaste was effective in providing long-lasting freshness, but it dried out quickly in the tube, which was disappointing.\n",
      "\n",
      "{\"input\": \"The toothpaste was effective in providing long-lasting freshness, but it dried out quickly in the tube, which was disappointing.\", \"File Name\": \"paste-review10-3.txt\"}\n",
      "\n",
      "---------------\n",
      "\n",
      "The FrostBrite toothpaste did not meet my expectations in terms of whitening. Despite using it consistently for weeks, I did not notice much difference in the shade of my teeth. However, it did leave my mouth feeling fresh and clean, and I appreciated the range of options available for different oral health needs.\n",
      "\n",
      "{\"input\": \"negative\", \"File Name\": \"paste-review11-1.txt\"}\n"
     ]
    }
   ],
   "source": [
    "enhanced_documents = document_transformer.transform_documents(original_documents)\n",
    "\n",
    "print(\n",
    "    *[d.page_content + \"\\n\\n\" + json.dumps(d.metadata) for d in enhanced_documents],\n",
    "    sep=\"\\n\\n---------------\\n\\n\"\n",
    ")"
   ]
  },
  {
   "cell_type": "code",
   "execution_count": null,
   "metadata": {},
   "outputs": [],
   "source": []
  }
 ],
 "metadata": {
  "kernelspec": {
   "display_name": "Python 3.9.7 ('base')",
   "language": "python",
   "name": "python3"
  },
  "language_info": {
   "codemirror_mode": {
    "name": "ipython",
    "version": 3
   },
   "file_extension": ".py",
   "mimetype": "text/x-python",
   "name": "python",
   "nbconvert_exporter": "python",
   "pygments_lexer": "ipython3",
   "version": "3.9.7"
  },
  "orig_nbformat": 4,
  "vscode": {
   "interpreter": {
    "hash": "1448b48b023bcc9c3d4a79e814720a10ca6d4244f75e0f7ce4af58f96ba2b7d3"
   }
  }
 },
 "nbformat": 4,
 "nbformat_minor": 2
}
